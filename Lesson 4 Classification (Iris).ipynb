{
 "cells": [
  {
   "cell_type": "markdown",
   "metadata": {},
   "source": [
    "https://ru.wikipedia.org/wiki/%D0%98%D1%80%D0%B8%D1%81%D1%8B_%D0%A4%D0%B8%D1%88%D0%B5%D1%80%D0%B0#/media/File:Iris_dataset_scatterplot.svg"
   ]
  },
  {
   "cell_type": "code",
   "execution_count": 8,
   "metadata": {},
   "outputs": [
    {
     "name": "stdout",
     "output_type": "stream",
     "text": [
      "Populating the interactive namespace from numpy and matplotlib\n"
     ]
    },
    {
     "data": {
      "text/plain": [
       "<torch._C.Generator at 0x208aaa6ef90>"
      ]
     },
     "execution_count": 8,
     "metadata": {},
     "output_type": "execute_result"
    }
   ],
   "source": [
    "%pylab inline\n",
    "import sklearn.datasets\n",
    "import torch\n",
    "import torch.nn\n",
    "\n",
    "random.seed(0)\n",
    "torch.manual_seed(0)"
   ]
  },
  {
   "cell_type": "code",
   "execution_count": 9,
   "metadata": {
    "collapsed": true
   },
   "outputs": [],
   "source": [
    "iris = sklearn.datasets.load_iris()"
   ]
  },
  {
   "cell_type": "code",
   "execution_count": 10,
   "metadata": {
    "collapsed": true
   },
   "outputs": [],
   "source": [
    "features = iris.data[:, :2]\n",
    "labels = iris.target\n",
    "\n",
    "order = random.permutation(150)\n",
    "\n",
    "features = features[order, :]\n",
    "labels = labels[order]\n",
    "\n",
    "targets = numpy.zeros([150, 3])\n",
    "targets[arange(150), labels] = 1.0\n",
    "\n",
    "train_features = features[:100, :]\n",
    "test_features = features[100:, :]\n",
    "train_targets = targets[:100]\n",
    "test_targets = targets[100:]\n",
    "train_labels = labels[:100]\n",
    "test_labels = labels[100:]"
   ]
  },
  {
   "cell_type": "code",
   "execution_count": 11,
   "metadata": {
    "collapsed": true
   },
   "outputs": [],
   "source": [
    "class IrisNet(torch.nn.Module):\n",
    "    def __init__(self, n_hidden_neurons):\n",
    "        \n",
    "        super(IrisNet, self).__init__()\n",
    "        self.fc1 = torch.nn.Linear(2, n_hidden_neurons)\n",
    "        self.activ1 = torch.nn.Sigmoid()\n",
    "        self.fc2 = torch.nn.Linear(n_hidden_neurons, 3)\n",
    "        self.sm = torch.nn.Softmax()\n",
    "        \n",
    "    def forward(self, x):\n",
    "        x = self.fc1(x)\n",
    "        x = self.activ1(x)\n",
    "        x = self.fc2(x)\n",
    "#         x = self.sm(x) \n",
    "        return x\n",
    "\n",
    "    def inference(self, x):\n",
    "        x = self.forward(x)\n",
    "        x = self.sm(x)\n",
    "        return x"
   ]
  },
  {
   "cell_type": "code",
   "execution_count": 12,
   "metadata": {},
   "outputs": [
    {
     "name": "stdout",
     "output_type": "stream",
     "text": [
      "(100, 3)\n"
     ]
    }
   ],
   "source": [
    "criterion = torch.nn.CrossEntropyLoss()\n",
    "    \n",
    "print(train_targets.shape)\n",
    "\n",
    "iris_net = IrisNet(5)\n",
    "\n",
    "optimizer = torch.optim.Adam(iris_net.parameters(), \n",
    "                             lr=1.0e-3)"
   ]
  },
  {
   "cell_type": "code",
   "execution_count": 13,
   "metadata": {
    "scrolled": true
   },
   "outputs": [
    {
     "name": "stdout",
     "output_type": "stream",
     "text": [
      "0.34\n"
     ]
    },
    {
     "name": "stderr",
     "output_type": "stream",
     "text": [
      "C:\\ProgramData\\Anaconda3\\lib\\site-packages\\ipykernel_launcher.py:28: UserWarning: Implicit dimension choice for softmax has been deprecated. Change the call to include dim=X as an argument.\n"
     ]
    },
    {
     "name": "stdout",
     "output_type": "stream",
     "text": [
      "0.66\n",
      "0.68\n",
      "0.7\n",
      "0.74\n",
      "0.72\n",
      "0.7\n",
      "0.7\n",
      "0.7\n",
      "0.72\n",
      "0.72\n",
      "0.72\n",
      "0.72\n",
      "0.74\n",
      "0.74\n",
      "0.76\n",
      "0.76\n",
      "0.76\n",
      "0.76\n",
      "0.76\n",
      "0.76\n",
      "0.76\n",
      "0.78\n",
      "0.78\n",
      "0.8\n",
      "0.8\n",
      "0.8\n",
      "0.8\n",
      "0.8\n",
      "0.8\n",
      "0.8\n",
      "0.8\n",
      "0.8\n",
      "0.8\n",
      "0.8\n",
      "0.8\n",
      "0.8\n",
      "0.8\n",
      "0.8\n",
      "0.8\n",
      "0.8\n",
      "0.8\n",
      "0.8\n",
      "0.8\n",
      "0.8\n",
      "0.8\n",
      "0.8\n",
      "0.8\n",
      "0.8\n",
      "0.8\n",
      "0.8\n",
      "0.8\n",
      "0.8\n",
      "0.8\n",
      "0.8\n",
      "0.8\n",
      "0.8\n",
      "0.8\n",
      "0.8\n",
      "0.8\n",
      "0.8\n",
      "0.8\n",
      "0.8\n",
      "0.8\n",
      "0.82\n",
      "0.8\n",
      "0.82\n",
      "0.82\n",
      "0.82\n",
      "0.82\n",
      "0.82\n",
      "0.82\n",
      "0.82\n",
      "0.82\n",
      "0.82\n",
      "0.82\n",
      "0.82\n",
      "0.82\n",
      "0.82\n",
      "0.82\n",
      "0.82\n",
      "0.82\n",
      "0.82\n",
      "0.82\n",
      "0.82\n",
      "0.82\n",
      "0.82\n",
      "0.82\n",
      "0.82\n",
      "0.82\n",
      "0.82\n",
      "0.82\n",
      "0.82\n",
      "0.82\n",
      "0.82\n",
      "0.82\n",
      "0.82\n",
      "0.82\n",
      "0.82\n",
      "0.82\n"
     ]
    }
   ],
   "source": [
    "batch_size = 10\n",
    "\n",
    "softmax = torch.nn.Softmax()\n",
    "\n",
    "for epoch in range(10000):\n",
    "    order = random.permutation(train_features.shape[0])\n",
    "    for start_index in range(0, train_features.shape[0], batch_size):\n",
    "        optimizer.zero_grad()\n",
    "        \n",
    "        batch_indice = order[start_index:start_index+batch_size]\n",
    "        \n",
    "        batch_features = torch.FloatTensor(train_features[batch_indice, :])\n",
    "        batch_labels = torch.LongTensor(train_labels[batch_indice])\n",
    "        \n",
    "        features_var = torch.autograd.Variable(batch_features)\n",
    "        targets_var = torch.autograd.Variable(batch_labels)\n",
    "        \n",
    "        preds_var = iris_net.forward(features_var) \n",
    "        \n",
    "        loss = criterion(preds_var, targets_var)\n",
    "        loss.backward()\n",
    "        \n",
    "        optimizer.step()\n",
    "        \n",
    "    test_features = torch.Tensor(test_features)\n",
    "    features_var = torch.autograd.Variable(test_features)\n",
    "    test_preds = iris_net.forward(features_var)\n",
    "    test_preds = softmax(test_preds).data.numpy()\n",
    "        \n",
    "    test_preds = test_preds.argmax(axis=1)\n",
    "    if epoch % 100 == 0:\n",
    "        print((test_preds == test_labels).sum() / float(test_labels.size))"
   ]
  },
  {
   "cell_type": "code",
   "execution_count": 14,
   "metadata": {},
   "outputs": [
    {
     "name": "stderr",
     "output_type": "stream",
     "text": [
      "C:\\ProgramData\\Anaconda3\\lib\\site-packages\\ipykernel_launcher.py:19: UserWarning: Implicit dimension choice for softmax has been deprecated. Change the call to include dim=X as an argument.\n"
     ]
    },
    {
     "data": {
      "image/png": "[encoded data removed]",
      "text/plain": [
       "<matplotlib.figure.Figure at 0x208ae5402e8>"
      ]
     },
     "metadata": {},
     "output_type": "display_data"
    }
   ],
   "source": [
    "n_classes = 3\n",
    "plot_colors = \"bry\"\n",
    "plot_step = 0.02\n",
    "\n",
    "X = train_features\n",
    "x_var = torch.autograd.Variable(torch.Tensor(X))\n",
    "x_min, x_max = X[:, 0].min() - 1, X[:, 0].max() + 1\n",
    "y_min, y_max = X[:, 1].min() - 1, X[:, 1].max() + 1\n",
    "\n",
    "\n",
    "xx, yy = np.meshgrid(np.arange(x_min, x_max, plot_step),\n",
    "                     np.arange(y_min, y_max, plot_step))\n",
    "\n",
    "\n",
    "Z = iris_net.inference(torch.autograd.Variable(\n",
    "    torch.Tensor(np.c_[xx.ravel(), yy.ravel()]))).data.numpy().argmax(axis=1)\n",
    "Z = Z.reshape(xx.shape)\n",
    "cs = plt.contourf(xx, yy, Z, cmap=plt.cm.Paired)\n",
    "\n",
    "for i, color in zip(range(n_classes), plot_colors):\n",
    "    idx = np.where(train_labels == i)\n",
    "    plt.scatter(X[idx, 0], X[idx, 1], c=color, label=iris.target_names[i],\n",
    "                cmap=plt.cm.Paired)"
   ]
  },
  {
   "cell_type": "markdown",
   "metadata": {},
   "source": [
    "# Задание 1\n",
    "Сделать нейронную сеть с двумя скрытыми слоями (оба сигмоидные). Подобрать количество нейронов в первом и втором слое, которое максимизирует значение accuracy (процент угаданных цветков).\n",
    "\n",
    "Замените функцию активации с сигмоиды на гиперболический тангенс.\n",
    "Что изменилось?"
   ]
  },
  {
   "cell_type": "code",
   "execution_count": 31,
   "metadata": {},
   "outputs": [
    {
     "ename": "AttributeError",
     "evalue": "'float' object has no attribute 'backward'",
     "output_type": "error",
     "traceback": [
      "\u001b[1;31m---------------------------------------------------------------------------\u001b[0m",
      "\u001b[1;31mAttributeError\u001b[0m                            Traceback (most recent call last)",
      "\u001b[1;32m<ipython-input-31-82fba3d7d3aa>\u001b[0m in \u001b[0;36m<module>\u001b[1;34m()\u001b[0m\n\u001b[0;32m     55\u001b[0m \u001b[1;33m\u001b[0m\u001b[0m\n\u001b[0;32m     56\u001b[0m         \u001b[0mloss\u001b[0m \u001b[1;33m=\u001b[0m \u001b[0mcriterion\u001b[0m\u001b[1;33m(\u001b[0m\u001b[0mpreds_var\u001b[0m\u001b[1;33m,\u001b[0m \u001b[0mtargets_var\u001b[0m\u001b[1;33m)\u001b[0m\u001b[1;33m\u001b[0m\u001b[0m\n\u001b[1;32m---> 57\u001b[1;33m         \u001b[0mloss\u001b[0m\u001b[1;33m.\u001b[0m\u001b[0mbackward\u001b[0m\u001b[1;33m(\u001b[0m\u001b[1;33m)\u001b[0m\u001b[1;33m\u001b[0m\u001b[0m\n\u001b[0m\u001b[0;32m     58\u001b[0m \u001b[1;33m\u001b[0m\u001b[0m\n\u001b[0;32m     59\u001b[0m         \u001b[0moptimizer\u001b[0m\u001b[1;33m.\u001b[0m\u001b[0mstep\u001b[0m\u001b[1;33m(\u001b[0m\u001b[1;33m)\u001b[0m\u001b[1;33m\u001b[0m\u001b[0m\n",
      "\u001b[1;31mAttributeError\u001b[0m: 'float' object has no attribute 'backward'"
     ]
    }
   ],
   "source": [
    "class DoubleNet(torch.nn.Module):\n",
    "    def __init__(self, n_hidden_neurons, nn_2):\n",
    "        \n",
    "        super(DoubleNet, self).__init__()\n",
    "        self.fc1 = torch.nn.Linear(2, n_hidden_neurons)\n",
    "        self.activ1 = torch.nn.Sigmoid()\n",
    "        self.fc2 = torch.nn.Linear(n_hidden_neurons, nn_2)\n",
    "        self.ac2 = torch.nn.Sigmoid()\n",
    "        self.fc3 = torch.nn.Linear(nn_2, 3)\n",
    "        self.sm = torch.nn.Softmax()\n",
    "        \n",
    "    def forward(self, x):\n",
    "        x = self.fc1(x)\n",
    "        x = self.activ1(x)\n",
    "        x = self.fc2(x)\n",
    "        x = self.ac2(x)\n",
    "        x = self.fc3(x)\n",
    "#         x = self.sm(x) \n",
    "        return x\n",
    "\n",
    "    def inference(self, x):\n",
    "        x = self.forward(x)\n",
    "        x = self.sm(x)\n",
    "        return x\n",
    "def accuracy_loss(y_true, pred):\n",
    "    s = 0\n",
    "    for i in range(y_true.size(0)):\n",
    "        if y_true[i].argmax() == pred[i]:\n",
    "            s+=1\n",
    "    return s / pred.size(0)\n",
    "criterion = accuracy_loss\n",
    "\n",
    "cur_net = DoubleNet(9, 4)\n",
    "\n",
    "optimizer = torch.optim.Adam(cur_net.parameters(), \n",
    "                             lr=1.0e-3)\n",
    "batch_size = 10\n",
    "\n",
    "softmax = torch.nn.Softmax()\n",
    "\n",
    "for epoch in range(10000):\n",
    "    order = random.permutation(train_features.shape[0])\n",
    "    for start_index in range(0, train_features.shape[0], batch_size):\n",
    "        optimizer.zero_grad()\n",
    "        \n",
    "        batch_indice = order[start_index:start_index+batch_size]\n",
    "        \n",
    "        batch_features = torch.FloatTensor(train_features[batch_indice, :])\n",
    "        batch_labels = torch.LongTensor(train_labels[batch_indice])\n",
    "        \n",
    "        features_var = torch.autograd.Variable(batch_features)\n",
    "        targets_var = torch.autograd.Variable(batch_labels)\n",
    "        \n",
    "        preds_var = cur_net.forward(features_var) \n",
    "        \n",
    "        loss = criterion(preds_var, targets_var)\n",
    "        loss.backward()\n",
    "        \n",
    "        optimizer.step()\n",
    "        \n",
    "    test_features = torch.Tensor(test_features)\n",
    "    features_var = torch.autograd.Variable(test_features)\n",
    "    test_preds = cur_net.forward(features_var)\n",
    "    test_preds = softmax(test_preds).data.numpy()\n",
    "        \n",
    "    test_preds = test_preds.argmax(axis=1)\n",
    "    #if epoch % 100 == 0:\n",
    "        #print((test_preds == test_labels).sum() / float(test_labels.size))"
   ]
  },
  {
   "cell_type": "code",
   "execution_count": 26,
   "metadata": {},
   "outputs": [
    {
     "name": "stderr",
     "output_type": "stream",
     "text": [
      "C:\\ProgramData\\Anaconda3\\lib\\site-packages\\ipykernel_launcher.py:24: UserWarning: Implicit dimension choice for softmax has been deprecated. Change the call to include dim=X as an argument.\n"
     ]
    },
    {
     "data": {
      "image/png": "[encoded data removed]",
      "text/plain": [
       "<matplotlib.figure.Figure at 0x208ae866390>"
      ]
     },
     "metadata": {},
     "output_type": "display_data"
    }
   ],
   "source": [
    "n_classes = 3\n",
    "plot_colors = \"bry\"\n",
    "plot_step = 0.02\n",
    "\n",
    "X = train_features\n",
    "x_var = torch.autograd.Variable(torch.Tensor(X))\n",
    "x_min, x_max = X[:, 0].min() - 1, X[:, 0].max() + 1\n",
    "y_min, y_max = X[:, 1].min() - 1, X[:, 1].max() + 1\n",
    "\n",
    "\n",
    "xx, yy = np.meshgrid(np.arange(x_min, x_max, plot_step),\n",
    "                     np.arange(y_min, y_max, plot_step))\n",
    "\n",
    "\n",
    "Z = cur_net.inference(torch.autograd.Variable(\n",
    "    torch.Tensor(np.c_[xx.ravel(), yy.ravel()]))).data.numpy().argmax(axis=1)\n",
    "Z = Z.reshape(xx.shape)\n",
    "cs = plt.contourf(xx, yy, Z, cmap=plt.cm.Paired)\n",
    "\n",
    "for i, color in zip(range(n_classes), plot_colors):\n",
    "    idx = np.where(train_labels == i)\n",
    "    plt.scatter(X[idx, 0], X[idx, 1], c=color, label=iris.target_names[i],\n",
    "                cmap=plt.cm.Paired)"
   ]
  },
  {
   "cell_type": "markdown",
   "metadata": {},
   "source": [
    "# Задание 2\n",
    "Отцентрируйте и отнормируйте данные, добавьте неиспользованные признаки. Стало ли качество лучше? Что больше повлияло на качество, предобработка данных или увеличение числа рассматриваемых признаков?"
   ]
  }
 ],
 "metadata": {
  "anaconda-cloud": {},
  "kernelspec": {
   "display_name": "Python 3",
   "language": "python",
   "name": "python3"
  },
  "language_info": {
   "codemirror_mode": {
    "name": "ipython",
    "version": 3
   },
   "file_extension": ".py",
   "mimetype": "text/x-python",
   "name": "python",
   "nbconvert_exporter": "python",
   "pygments_lexer": "ipython3",
   "version": "3.6.1"
  }
 },
 "nbformat": 4,
 "nbformat_minor": 2
}
